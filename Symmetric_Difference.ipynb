{
 "cells": [
  {
   "cell_type": "code",
   "execution_count": 1,
   "id": "a1243051",
   "metadata": {
    "scrolled": true
   },
   "outputs": [
    {
     "name": "stdout",
     "output_type": "stream",
     "text": [
      "['__and__', '__class__', '__contains__', '__delattr__', '__dir__', '__doc__', '__eq__', '__format__', '__ge__', '__getattribute__', '__gt__', '__hash__', '__iand__', '__init__', '__init_subclass__', '__ior__', '__isub__', '__iter__', '__ixor__', '__le__', '__len__', '__lt__', '__ne__', '__new__', '__or__', '__rand__', '__reduce__', '__reduce_ex__', '__repr__', '__ror__', '__rsub__', '__rxor__', '__setattr__', '__sizeof__', '__str__', '__sub__', '__subclasshook__', '__xor__', 'add', 'clear', 'copy', 'difference', 'difference_update', 'discard', 'intersection', 'intersection_update', 'isdisjoint', 'issubset', 'issuperset', 'pop', 'remove', 'symmetric_difference', 'symmetric_difference_update', 'union', 'update']\n"
     ]
    }
   ],
   "source": [
    "print(dir(set))"
   ]
  },
  {
   "cell_type": "code",
   "execution_count": 2,
   "id": "dfbdcdd6",
   "metadata": {
    "scrolled": true
   },
   "outputs": [
    {
     "name": "stdout",
     "output_type": "stream",
     "text": [
      "Help on method_descriptor:\n",
      "\n",
      "symmetric_difference(...)\n",
      "    Return the symmetric difference of two sets as a new set.\n",
      "    \n",
      "    (i.e. all elements that are in exactly one of the sets.)\n",
      "\n"
     ]
    }
   ],
   "source": [
    "help(set.symmetric_difference)"
   ]
  },
  {
   "cell_type": "code",
   "execution_count": 4,
   "id": "0df5b1b8",
   "metadata": {},
   "outputs": [
    {
     "name": "stdout",
     "output_type": "stream",
     "text": [
      "{3, 4, 6, 7, 45, 20, 87}\n"
     ]
    }
   ],
   "source": [
    "a={1,2,3,4,5,6,7,8}\n",
    "b={5,8,2,1,20,45,87}\n",
    "\n",
    "print(a.symmetric_difference(b))"
   ]
  },
  {
   "cell_type": "code",
   "execution_count": 5,
   "id": "49e32d50",
   "metadata": {},
   "outputs": [
    {
     "data": {
      "text/plain": [
       "{1, 2, 3, 4, 5, 6, 7, 8}"
      ]
     },
     "execution_count": 5,
     "metadata": {},
     "output_type": "execute_result"
    }
   ],
   "source": [
    "a"
   ]
  },
  {
   "cell_type": "code",
   "execution_count": 6,
   "id": "84070cef",
   "metadata": {
    "scrolled": true
   },
   "outputs": [
    {
     "data": {
      "text/plain": [
       "{1, 2, 5, 8, 20, 45, 87}"
      ]
     },
     "execution_count": 6,
     "metadata": {},
     "output_type": "execute_result"
    }
   ],
   "source": [
    "b"
   ]
  },
  {
   "cell_type": "markdown",
   "id": "4078f327",
   "metadata": {},
   "source": [
    "# Concept"
   ]
  },
  {
   "cell_type": "markdown",
   "id": "62d1d242",
   "metadata": {},
   "source": [
    "- If the inputs are given on one line separated by a character (the delimiter), use split() to get the separate values in the form of a list. "
   ]
  },
  {
   "cell_type": "markdown",
   "id": "723a3a76",
   "metadata": {},
   "source": [
    "- The delimiter is space (ascii 32) by default.\n",
    "- To specify that comma is the delimiter, use string.split(',')."
   ]
  },
  {
   "cell_type": "code",
   "execution_count": 11,
   "id": "5cdb1190",
   "metadata": {},
   "outputs": [
    {
     "name": "stdout",
     "output_type": "stream",
     "text": [
      "['Vikas', 'Kale', 'Python']\n"
     ]
    }
   ],
   "source": [
    "s=\"Vikas Kale Python\"\n",
    "re=s.split()\n",
    "print(re)"
   ]
  },
  {
   "cell_type": "code",
   "execution_count": 12,
   "id": "0020cdd7",
   "metadata": {},
   "outputs": [
    {
     "data": {
      "text/plain": [
       "list"
      ]
     },
     "execution_count": 12,
     "metadata": {},
     "output_type": "execute_result"
    }
   ],
   "source": [
    "type(re)"
   ]
  },
  {
   "cell_type": "code",
   "execution_count": 13,
   "id": "48311e6c",
   "metadata": {},
   "outputs": [
    {
     "name": "stdout",
     "output_type": "stream",
     "text": [
      "['1', '2', '3', '4', '5', '6', '7', '8']\n"
     ]
    }
   ],
   "source": [
    "b='1 2 3 4 5 6 7 8'\n",
    "re=b.split()\n",
    "print(re)"
   ]
  },
  {
   "cell_type": "markdown",
   "id": "7095ccf6",
   "metadata": {},
   "source": [
    "### If the list values are all integer types, use the map() method to convert all the strings to integers."
   ]
  },
  {
   "cell_type": "code",
   "execution_count": 14,
   "id": "77843f70",
   "metadata": {},
   "outputs": [
    {
     "name": "stdout",
     "output_type": "stream",
     "text": [
      "[1, 2, 3, 4, 5, 6, 7, 8]\n"
     ]
    }
   ],
   "source": [
    "b='1 2 3 4 5 6 7 8'\n",
    "re=list(map(int,b.split()))  # use map function to convert str to int.syntax:map(function,*iterable)\n",
    "print(re)"
   ]
  },
  {
   "cell_type": "markdown",
   "id": "53128bdc",
   "metadata": {},
   "source": [
    "- Sets are an unordered collection of unique values. A single set contains values of any immutable data type."
   ]
  },
  {
   "cell_type": "markdown",
   "id": "ba4eb483",
   "metadata": {},
   "source": [
    "### Creating sets"
   ]
  },
  {
   "cell_type": "code",
   "execution_count": 15,
   "id": "e3143260",
   "metadata": {},
   "outputs": [
    {
     "name": "stdout",
     "output_type": "stream",
     "text": [
      "{'b', 'a'}\n"
     ]
    }
   ],
   "source": [
    "myset = {1, 2} # Directly assigning values to a set\n",
    "myset = set()  # Initializing a set\n",
    "myset = set(['a', 'b']) # Creating a set from a list\n",
    "print(myset)\n"
   ]
  },
  {
   "cell_type": "markdown",
   "id": "c5c87c0d",
   "metadata": {},
   "source": [
    "### MODIFYING SETS"
   ]
  },
  {
   "cell_type": "markdown",
   "id": "f49a7525",
   "metadata": {},
   "source": [
    "- Using the add() function:"
   ]
  },
  {
   "cell_type": "code",
   "execution_count": 16,
   "id": "42a10f52",
   "metadata": {},
   "outputs": [
    {
     "name": "stdout",
     "output_type": "stream",
     "text": [
      "{'b', (5, 4), 'c', 'a'}\n"
     ]
    }
   ],
   "source": [
    "myset.add('c')\n",
    "myset\n",
    "{'a', 'c', 'b'}\n",
    "myset.add('a') # As 'a' already exists in the set, nothing happens\n",
    "myset.add((5, 4))\n",
    "print(myset)\n",
    "# {'a', 'c', 'b', (5, 4)}"
   ]
  },
  {
   "cell_type": "markdown",
   "id": "bfb9f2b0",
   "metadata": {},
   "source": [
    "- Using the update() function:"
   ]
  },
  {
   "cell_type": "code",
   "execution_count": 17,
   "id": "295897b9",
   "metadata": {},
   "outputs": [
    {
     "name": "stdout",
     "output_type": "stream",
     "text": [
      "{'b', 1, 2, 3, 4, (5, 4), 'c', 'a'}\n"
     ]
    }
   ],
   "source": [
    "myset.update([1, 2, 3, 4]) # update() only works for iterable objects\n",
    "print(myset)"
   ]
  },
  {
   "cell_type": "code",
   "execution_count": 18,
   "id": "e958d391",
   "metadata": {},
   "outputs": [
    {
     "name": "stdout",
     "output_type": "stream",
     "text": [
      "{'b', 1, 2, 3, 4, 7, 8, (5, 4), 'c', 'a'}\n"
     ]
    }
   ],
   "source": [
    "myset.update({1, 7, 8})\n",
    "print(myset)"
   ]
  },
  {
   "cell_type": "code",
   "execution_count": 19,
   "id": "c0f18313",
   "metadata": {},
   "outputs": [
    {
     "name": "stdout",
     "output_type": "stream",
     "text": [
      "{'b', 1, 2, 3, 4, 5, 6, 7, 8, (5, 4), 'c', 'a', 13}\n"
     ]
    }
   ],
   "source": [
    "myset.update({1, 6}, [5, 13])\n",
    "print(myset)"
   ]
  },
  {
   "cell_type": "markdown",
   "id": "fca960f0",
   "metadata": {},
   "source": [
    "## REMOVING ITEMS"
   ]
  },
  {
   "cell_type": "markdown",
   "id": "6512a819",
   "metadata": {},
   "source": [
    "- Both the discard() and remove() functions take a single value as an argument and removes that value from the set.\n",
    "- If that value is not present, discard() does nothing, but remove() will raise a KeyError exception."
   ]
  },
  {
   "cell_type": "code",
   "execution_count": 20,
   "id": "ea588dfb",
   "metadata": {},
   "outputs": [
    {
     "name": "stdout",
     "output_type": "stream",
     "text": [
      "{'b', 1, 2, 3, 4, 5, 6, 7, 8, (5, 4), 'c', 'a', 13}\n"
     ]
    }
   ],
   "source": [
    "myset.discard(10)  # 10 not present in myset.\n",
    "print(myset)"
   ]
  },
  {
   "cell_type": "code",
   "execution_count": 22,
   "id": "68ff75de",
   "metadata": {},
   "outputs": [
    {
     "name": "stdout",
     "output_type": "stream",
     "text": [
      "{'b', 1, 2, 3, 4, 5, 6, 7, 8, (5, 4), 'c', 'a'}\n"
     ]
    }
   ],
   "source": [
    "myset.remove(13)\n",
    "print(myset)"
   ]
  },
  {
   "cell_type": "markdown",
   "id": "c58e793a",
   "metadata": {},
   "source": [
    "### COMMON SET OPERATIONS"
   ]
  },
  {
   "cell_type": "markdown",
   "id": "89d92096",
   "metadata": {},
   "source": [
    "- **Using union(), intersection() and difference() functions.**"
   ]
  },
  {
   "cell_type": "code",
   "execution_count": 24,
   "id": "cd685bad",
   "metadata": {},
   "outputs": [
    {
     "data": {
      "text/plain": [
       "{2, 4, 5, 9, 11, 12}"
      ]
     },
     "execution_count": 24,
     "metadata": {},
     "output_type": "execute_result"
    }
   ],
   "source": [
    "a = {2, 4, 5, 9}\n",
    "b = {2, 4, 11, 12}\n",
    "a.union(b) # Values which exist in a or b"
   ]
  },
  {
   "cell_type": "code",
   "execution_count": 25,
   "id": "55944b4e",
   "metadata": {},
   "outputs": [
    {
     "data": {
      "text/plain": [
       "{2, 4}"
      ]
     },
     "execution_count": 25,
     "metadata": {},
     "output_type": "execute_result"
    }
   ],
   "source": [
    "a.intersection(b) # Values which exist in a and b"
   ]
  },
  {
   "cell_type": "code",
   "execution_count": 26,
   "id": "7de6897b",
   "metadata": {},
   "outputs": [
    {
     "data": {
      "text/plain": [
       "{5, 9}"
      ]
     },
     "execution_count": 26,
     "metadata": {},
     "output_type": "execute_result"
    }
   ],
   "source": [
    "a.difference(b) # Values which exist in a but not in b"
   ]
  },
  {
   "cell_type": "code",
   "execution_count": 27,
   "id": "096f1441",
   "metadata": {},
   "outputs": [
    {
     "data": {
      "text/plain": [
       "{5, 9, 11, 12}"
      ]
     },
     "execution_count": 27,
     "metadata": {},
     "output_type": "execute_result"
    }
   ],
   "source": [
    "a = {2, 4, 5, 9}\n",
    "b = {2, 4, 11, 12}\n",
    "a.symmetric_difference(b) #values that exist in either a or b but do not exist in both."
   ]
  },
  {
   "cell_type": "markdown",
   "id": "21142896",
   "metadata": {},
   "source": [
    "# The union() and intersection() functions are symmetric methods:"
   ]
  },
  {
   "cell_type": "code",
   "execution_count": 28,
   "id": "23f9197c",
   "metadata": {},
   "outputs": [
    {
     "data": {
      "text/plain": [
       "True"
      ]
     },
     "execution_count": 28,
     "metadata": {},
     "output_type": "execute_result"
    }
   ],
   "source": [
    "a.union(b) == b.union(a)"
   ]
  },
  {
   "cell_type": "code",
   "execution_count": 29,
   "id": "a9783f06",
   "metadata": {},
   "outputs": [
    {
     "data": {
      "text/plain": [
       "True"
      ]
     },
     "execution_count": 29,
     "metadata": {},
     "output_type": "execute_result"
    }
   ],
   "source": [
    "a.intersection(b) == b.intersection(a)"
   ]
  },
  {
   "cell_type": "code",
   "execution_count": 30,
   "id": "d9f296fd",
   "metadata": {},
   "outputs": [
    {
     "data": {
      "text/plain": [
       "False"
      ]
     },
     "execution_count": 30,
     "metadata": {},
     "output_type": "execute_result"
    }
   ],
   "source": [
    "a.difference(b) == b.difference(a)"
   ]
  },
  {
   "cell_type": "markdown",
   "id": "64ebf87c",
   "metadata": {},
   "source": [
    "# Task"
   ]
  },
  {
   "cell_type": "markdown",
   "id": "9781c803",
   "metadata": {},
   "source": [
    "- Given  sets of integers, M and N, print their symmetric difference in ascending order.\\\n",
    "- The term symmetric difference indicates those values that exist in either M or N but do not exist in both."
   ]
  },
  {
   "cell_type": "markdown",
   "id": "bfa27618",
   "metadata": {},
   "source": [
    "## Input Format"
   ]
  },
  {
   "cell_type": "raw",
   "id": "cff41186",
   "metadata": {},
   "source": [
    "The first line of input contains an integer,M .\n",
    "The second line contains M space-separated integers.\n",
    "The third line contains an integer, N.\n",
    "The fourth line contains N space-separated integers."
   ]
  },
  {
   "cell_type": "markdown",
   "id": "8edbe186",
   "metadata": {},
   "source": [
    "### Output Format"
   ]
  },
  {
   "cell_type": "raw",
   "id": "e9540ac7",
   "metadata": {},
   "source": [
    "- Output the symmetric difference integers in ascending order, one per line."
   ]
  },
  {
   "cell_type": "raw",
   "id": "37769b59",
   "metadata": {},
   "source": [
    "Sample Input\n",
    "\n",
    "STDIN       Function\n",
    "-----       --------\n",
    "4           set a size M = 4\n",
    "2 4 5 9     a = {2, 4, 5, 9}\n",
    "4           set b size N = 4\n",
    "2 4 11 12   b = {2, 4, 11, 12}"
   ]
  },
  {
   "cell_type": "raw",
   "id": "8ddf9128",
   "metadata": {},
   "source": [
    "Sample Output\n",
    "\n",
    "5\n",
    "9\n",
    "11\n",
    "12"
   ]
  },
  {
   "cell_type": "code",
   "execution_count": null,
   "id": "03524963",
   "metadata": {},
   "outputs": [],
   "source": []
  },
  {
   "cell_type": "code",
   "execution_count": 38,
   "id": "2db63b2d",
   "metadata": {},
   "outputs": [
    {
     "name": "stdout",
     "output_type": "stream",
     "text": [
      "4\n",
      "2 4 5 9\n",
      "4\n",
      "2 4 11 12\n",
      "5\n",
      "9\n",
      "11\n",
      "12\n"
     ]
    }
   ],
   "source": [
    "a,b=(int(input()),input().split())\n",
    "c,d=(int(input()),input().split())\n",
    "x=set(b)\n",
    "y=set(d)\n",
    "p=y.difference(x)\n",
    "q=x.difference(y)\n",
    "r=p.union(q)\n",
    "print ('\\n'.join(sorted(r, key=int)))"
   ]
  },
  {
   "cell_type": "raw",
   "id": "29b61e4b",
   "metadata": {},
   "source": [
    "Signature: sorted(iterable, /, *, key=None, reverse=False)\n",
    "Docstring:\n",
    "Return a new list containing all items from the iterable in ascending order.\n",
    "\n",
    "A custom key function can be supplied to customize the sort order, and the\n",
    "reverse flag can be set to request the result in descending order.\n",
    "Type:      builtin_function_or_method"
   ]
  },
  {
   "cell_type": "markdown",
   "id": "c2051099",
   "metadata": {},
   "source": [
    "# Another method"
   ]
  },
  {
   "cell_type": "raw",
   "id": "de39132d",
   "metadata": {},
   "source": [
    "Sample Input\n",
    "\n",
    "STDIN       Function\n",
    "-----       --------\n",
    "4           set a size M = 4\n",
    "2 4 5 9     a = {2, 4, 5, 9}\n",
    "4           set b size N = 4\n",
    "2 4 11 12   b = {2, 4, 11, 12}"
   ]
  },
  {
   "cell_type": "code",
   "execution_count": 39,
   "id": "492a11ea",
   "metadata": {},
   "outputs": [
    {
     "name": "stdout",
     "output_type": "stream",
     "text": [
      "Enter size of set a: 4\n",
      "2 4 5 9\n",
      "Enter size of set b: 4\n",
      "2 4 11 12\n",
      "{9, 2, 4, 5}\n",
      "{2, 11, 4, 12}\n"
     ]
    }
   ],
   "source": [
    "m=input(\"Enter size of set a: \")\n",
    "a=set(map(int,input().split()))\n",
    "n=input(\"Enter size of set b: \")\n",
    "b=set(map(int,input().split()))\n",
    "\n",
    "print(a)\n",
    "print(b)"
   ]
  },
  {
   "cell_type": "code",
   "execution_count": 40,
   "id": "362b8f0b",
   "metadata": {},
   "outputs": [
    {
     "name": "stdout",
     "output_type": "stream",
     "text": [
      "Enter size of set a: 4\n",
      "2 4 5 9\n",
      "Enter size of set b: 4\n",
      "2 4 11 12\n",
      "{9, 11, 12, 5}\n"
     ]
    }
   ],
   "source": [
    "m=input(\"Enter size of set a: \")\n",
    "a=set(map(int,input().split()))\n",
    "n=input(\"Enter size of set b: \")\n",
    "b=set(map(int,input().split()))\n",
    "print((a-b).union(b-a))"
   ]
  },
  {
   "cell_type": "code",
   "execution_count": 42,
   "id": "c137479f",
   "metadata": {},
   "outputs": [
    {
     "name": "stdout",
     "output_type": "stream",
     "text": [
      "Enter size of set a: 4\n",
      "2 4 5 9\n",
      "Enter size of set b: 4\n",
      "2 4 11 12\n",
      "5\n",
      "9\n",
      "11\n",
      "12\n"
     ]
    }
   ],
   "source": [
    "m=input(\"Enter size of set a: \")\n",
    "a=set(map(int,input().split()))\n",
    "n=input(\"Enter size of set b: \")\n",
    "b=set(map(int,input().split()))\n",
    "result=sorted((a-b).union(b-a))\n",
    "\n",
    "\n",
    "for i in result:\n",
    "    print(i)"
   ]
  },
  {
   "cell_type": "code",
   "execution_count": null,
   "id": "8f9212b9",
   "metadata": {},
   "outputs": [],
   "source": []
  }
 ],
 "metadata": {
  "kernelspec": {
   "display_name": "Python 3",
   "language": "python",
   "name": "python3"
  },
  "language_info": {
   "codemirror_mode": {
    "name": "ipython",
    "version": 3
   },
   "file_extension": ".py",
   "mimetype": "text/x-python",
   "name": "python",
   "nbconvert_exporter": "python",
   "pygments_lexer": "ipython3",
   "version": "3.8.8"
  }
 },
 "nbformat": 4,
 "nbformat_minor": 5
}
